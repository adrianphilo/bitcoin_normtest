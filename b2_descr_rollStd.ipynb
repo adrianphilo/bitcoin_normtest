{
 "cells": [
  {
   "cell_type": "raw",
   "metadata": {},
   "source": [
    "describe von allen zeitreihen \n",
    "und rolling Std.\n",
    "zusätzlich werden einige rollings mit dem bitcoin geplottet"
   ]
  },
  {
   "cell_type": "code",
   "execution_count": null,
   "metadata": {
    "scrolled": true
   },
   "outputs": [],
   "source": [
    "%run a0_init.ipynb"
   ]
  },
  {
   "cell_type": "code",
   "execution_count": null,
   "metadata": {},
   "outputs": [],
   "source": [
    "#describe von ITV1\n",
    "all_ret_fri[iv1_start : iv1_end].describe()"
   ]
  },
  {
   "cell_type": "code",
   "execution_count": null,
   "metadata": {},
   "outputs": [],
   "source": [
    "#describe von ITV2\n",
    "all_ret_fri[iv2_start : iv2_end].describe()"
   ]
  },
  {
   "cell_type": "markdown",
   "metadata": {},
   "source": [
    "### Show all returns"
   ]
  },
  {
   "cell_type": "code",
   "execution_count": null,
   "metadata": {
    "scrolled": true
   },
   "outputs": [],
   "source": [
    "#pd.set_option('display.max_rows', None)\n",
    "size = (9, 6)\n",
    "roll_std = all_ret_fri.rolling(roll_size_week).std().dropna()\n",
    "roll_std\n",
    "365 / 7"
   ]
  },
  {
   "cell_type": "code",
   "execution_count": null,
   "metadata": {
    "scrolled": true
   },
   "outputs": [],
   "source": [
    "roll_std[BTC].plot(color=\"grey\", figsize=size)#.get_figure().savefig('/home/zebra/hostbooks/bitcoin_thesis/aaa.svg') "
   ]
  },
  {
   "cell_type": "code",
   "execution_count": null,
   "metadata": {
    "scrolled": true
   },
   "outputs": [],
   "source": [
    "roll_std[EUR].plot(color=\"grey\", figsize=size) "
   ]
  },
  {
   "cell_type": "code",
   "execution_count": null,
   "metadata": {
    "scrolled": true
   },
   "outputs": [],
   "source": [
    "roll_std[S_P].plot(color=\"grey\", figsize=size) "
   ]
  },
  {
   "cell_type": "code",
   "execution_count": null,
   "metadata": {
    "scrolled": true
   },
   "outputs": [],
   "source": [
    "roll_std[NDQ].plot(color=\"grey\", figsize=size) "
   ]
  },
  {
   "cell_type": "code",
   "execution_count": null,
   "metadata": {
    "scrolled": true
   },
   "outputs": [],
   "source": [
    "roll_std[GLD].plot(color=\"grey\", figsize=size) "
   ]
  },
  {
   "cell_type": "code",
   "execution_count": null,
   "metadata": {
    "scrolled": true
   },
   "outputs": [],
   "source": [
    "roll_std[OIL].plot(color=\"grey\", figsize=size) "
   ]
  },
  {
   "cell_type": "code",
   "execution_count": null,
   "metadata": {
    "scrolled": true
   },
   "outputs": [],
   "source": [
    "roll_std[TRS].plot(color=\"grey\", figsize=size) "
   ]
  },
  {
   "cell_type": "code",
   "execution_count": null,
   "metadata": {
    "scrolled": true
   },
   "outputs": [],
   "source": [
    "roll_std[[BTC, NDQ]].plot(color=['grey', 'black'], figsize=size) "
   ]
  },
  {
   "cell_type": "code",
   "execution_count": null,
   "metadata": {
    "scrolled": true
   },
   "outputs": [],
   "source": [
    "roll_std[[BTC, OIL]].plot(color=['grey', 'black'],figsize=size) "
   ]
  },
  {
   "cell_type": "code",
   "execution_count": null,
   "metadata": {
    "scrolled": true
   },
   "outputs": [],
   "source": [
    "roll_std[[BTC, TRS]].plot(color=['grey', 'black'], figsize=size) "
   ]
  },
  {
   "cell_type": "markdown",
   "metadata": {
    "scrolled": true
   },
   "source": [
    "# new try"
   ]
  },
  {
   "cell_type": "code",
   "execution_count": null,
   "metadata": {},
   "outputs": [],
   "source": [
    "def doplot1(serie :pd.Series, NAM :str,  axes : None) :\n",
    "  if (NAM == BTC):  \n",
    "    serie[BTC].plot(color=['black'], ax=axes,  rot=30, title=BTC+\" weekly vola rollierend 1Y\")\n",
    "  else:  \n",
    "    serie[[BTC, NAM]].plot(color=['grey', 'black'], ax=axes,  rot=30, title=NAM+\" / \"+BTC+\" weekly vola rollierend 1Y\") \n",
    "\n",
    "  axes.set(xlabel=\"Datum\", ylabel=\"Volatilität\" ) "
   ]
  },
  {
   "cell_type": "code",
   "execution_count": null,
   "metadata": {},
   "outputs": [],
   "source": [
    "fig, axes = plt.subplots(3, 2, figsize=(13, 13) , sharex=True, sharey=True)\n",
    "\n",
    "doplot1 (roll_std, BTC, axes[0, 0])\n",
    "doplot1 (roll_std, S_P, axes[0, 1])\n",
    "doplot1 (roll_std, EUR, axes[1, 0])\n",
    "doplot1 (roll_std, OIL, axes[1, 1])\n",
    "doplot1 (roll_std, GLD, axes[2, 0])\n",
    "doplot1 (roll_std, TRS, axes[2, 1])\n",
    "\n",
    "plt.show()"
   ]
  },
  {
   "cell_type": "code",
   "execution_count": null,
   "metadata": {},
   "outputs": [],
   "source": []
  }
 ],
 "metadata": {
  "kernelspec": {
   "display_name": "Python 3",
   "language": "python",
   "name": "python3"
  },
  "language_info": {
   "codemirror_mode": {
    "name": "ipython",
    "version": 3
   },
   "file_extension": ".py",
   "mimetype": "text/x-python",
   "name": "python",
   "nbconvert_exporter": "python",
   "pygments_lexer": "ipython3",
   "version": "3.7.6"
  }
 },
 "nbformat": 4,
 "nbformat_minor": 4
}
