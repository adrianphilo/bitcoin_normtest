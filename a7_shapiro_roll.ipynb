{
 "cells": [
  {
   "cell_type": "markdown",
   "metadata": {},
   "source": [
    "## shapiro-wilk test    \n",
    "von allen zeitreihen zu ITV1/ITV2 und rolling 1Y shapiro.   \n",
    "\n",
    "The Shapiro-Wilk tests if a random sample came from a normal distribution. The null hypothesis of the test is the data is normally distributed. If the p value returned is less than.05, then the null hypothesis is rejected and there is evidence that the data is not from a normally distributed population.\n",
    "\n",
    "However, It is completely possible that for p > 0.05 and the data does not come from a normal population. Failure to reject could be from the sample size being too small to detect the non-normality. So, keep this in mind when interpreting the results."
   ]
  },
  {
   "cell_type": "code",
   "execution_count": null,
   "metadata": {
    "scrolled": true
   },
   "outputs": [],
   "source": [
    "%run a0_init.ipynb"
   ]
  },
  {
   "cell_type": "markdown",
   "metadata": {},
   "source": [
    "### Test for ITV1 / ITV2"
   ]
  },
  {
   "cell_type": "code",
   "execution_count": null,
   "metadata": {},
   "outputs": [],
   "source": [
    "size = (9, 6)\n",
    "# stats.shapiro(all_ret[BTC])\n",
    "shp_itv1 = all_ret[iv1_start : iv1_end].apply( lambda x: stats.shapiro( x )[1]) #, axis=0 ).dropna()\n",
    "shp_itv1"
   ]
  },
  {
   "cell_type": "code",
   "execution_count": null,
   "metadata": {},
   "outputs": [],
   "source": [
    "shp_itv2 = all_ret[iv2_start : iv2_end].apply( lambda x: stats.shapiro( x )[1]) #, axis=0 ).dropna()\n",
    "shp_itv2"
   ]
  },
  {
   "cell_type": "markdown",
   "metadata": {},
   "source": [
    "### Shapiro Wilk Test rolling 1Y"
   ]
  },
  {
   "cell_type": "code",
   "execution_count": null,
   "metadata": {},
   "outputs": [],
   "source": [
    "# return wert statistic\n",
    "roll_0 = all_ret.rolling(roll_size).apply( lambda x: stats.shapiro( x )[0] ).dropna()\n",
    "roll_0"
   ]
  },
  {
   "cell_type": "code",
   "execution_count": null,
   "metadata": {
    "scrolled": true
   },
   "outputs": [],
   "source": [
    "# return wert p (normalverteilt wenn > 0.05)\n",
    "roll_1 = all_ret.rolling(roll_size).apply( lambda x: stats.shapiro( x )[1] ).dropna()\n",
    "roll_1"
   ]
  },
  {
   "cell_type": "code",
   "execution_count": null,
   "metadata": {
    "scrolled": true
   },
   "outputs": [],
   "source": [
    "roll_ = roll_1\n",
    "roll_[BTC].plot(color=\"grey\", figsize=size)#.get_figure().savefig('/home/zebra/hostbooks/bitcoin_thesis/aaa.svg') "
   ]
  },
  {
   "cell_type": "code",
   "execution_count": null,
   "metadata": {
    "scrolled": true
   },
   "outputs": [],
   "source": [
    "roll_[EUR].plot(color=\"grey\", figsize=size) "
   ]
  },
  {
   "cell_type": "code",
   "execution_count": null,
   "metadata": {
    "scrolled": true
   },
   "outputs": [],
   "source": [
    "roll_[S_P].plot(color=\"grey\", figsize=size) "
   ]
  },
  {
   "cell_type": "code",
   "execution_count": null,
   "metadata": {
    "scrolled": true
   },
   "outputs": [],
   "source": [
    "roll_[NDQ].plot(color=\"grey\", figsize=size) "
   ]
  },
  {
   "cell_type": "code",
   "execution_count": null,
   "metadata": {
    "scrolled": true
   },
   "outputs": [],
   "source": [
    "roll_[GLD].plot(color=\"grey\", figsize=size) "
   ]
  },
  {
   "cell_type": "code",
   "execution_count": null,
   "metadata": {
    "scrolled": true
   },
   "outputs": [],
   "source": [
    "roll_[OIL].plot(color=\"grey\", figsize=size) "
   ]
  },
  {
   "cell_type": "code",
   "execution_count": null,
   "metadata": {
    "scrolled": true
   },
   "outputs": [],
   "source": [
    "roll_[TRS].plot(color=\"grey\", figsize=size) "
   ]
  },
  {
   "cell_type": "code",
   "execution_count": null,
   "metadata": {
    "scrolled": true
   },
   "outputs": [],
   "source": [
    "roll_[[BTC, NDQ]].plot(color=['grey', 'black'], figsize=size) "
   ]
  },
  {
   "cell_type": "code",
   "execution_count": null,
   "metadata": {
    "scrolled": true
   },
   "outputs": [],
   "source": [
    "roll_[[BTC, OIL]].plot(color=['grey', 'black'],figsize=size) "
   ]
  },
  {
   "cell_type": "code",
   "execution_count": null,
   "metadata": {
    "scrolled": true
   },
   "outputs": [],
   "source": [
    "roll_[[BTC, TRS]].plot(color=['grey', 'black'], figsize=size) "
   ]
  },
  {
   "cell_type": "code",
   "execution_count": null,
   "metadata": {},
   "outputs": [],
   "source": []
  }
 ],
 "metadata": {
  "kernelspec": {
   "display_name": "Python 3",
   "language": "python",
   "name": "python3"
  },
  "language_info": {
   "codemirror_mode": {
    "name": "ipython",
    "version": 3
   },
   "file_extension": ".py",
   "mimetype": "text/x-python",
   "name": "python",
   "nbconvert_exporter": "python",
   "pygments_lexer": "ipython3",
   "version": "3.7.6"
  }
 },
 "nbformat": 4,
 "nbformat_minor": 4
}
