{
 "cells": [
  {
   "cell_type": "markdown",
   "metadata": {},
   "source": [
    "Die täglichen und die wöchintlichen Veränderunge werden statistisch untersucht.  \n",
    "In den folgenden Grafiken werden die täglichen Veränderungen dargestellt. Die Veränderungen werden als Verhältnis der Veränderungen zum Vortageskurs ermittelt.   \n",
    "Zur Veranschauung wird der Bitcoin Graph bei jeder anderen Zeitreihe in grau mit angezeigt."
   ]
  },
  {
   "cell_type": "code",
   "execution_count": null,
   "metadata": {
    "scrolled": true
   },
   "outputs": [],
   "source": [
    "%run a0_init.ipynb"
   ]
  },
  {
   "cell_type": "markdown",
   "metadata": {},
   "source": [
    "### Show all returns"
   ]
  },
  {
   "cell_type": "code",
   "execution_count": null,
   "metadata": {
    "scrolled": true
   },
   "outputs": [],
   "source": [
    "#pd.set_option('display.max_rows', None)\n",
    "size = (9, 6)\n",
    "btc_ret"
   ]
  },
  {
   "cell_type": "code",
   "execution_count": null,
   "metadata": {
    "scrolled": true
   },
   "outputs": [],
   "source": [
    "btc_ret.plot(color=\"grey\", figsize=size)#.get_figure().savefig('/home/zebra/hostbooks/bitcoin_thesis/aaa.svg') "
   ]
  },
  {
   "cell_type": "code",
   "execution_count": null,
   "metadata": {
    "scrolled": true
   },
   "outputs": [],
   "source": [
    "eur_ret"
   ]
  },
  {
   "cell_type": "code",
   "execution_count": null,
   "metadata": {
    "scrolled": true
   },
   "outputs": [],
   "source": [
    "eur_ret.plot(color=\"grey\", figsize=size) "
   ]
  },
  {
   "cell_type": "code",
   "execution_count": null,
   "metadata": {
    "scrolled": true
   },
   "outputs": [],
   "source": [
    "s_p_ret"
   ]
  },
  {
   "cell_type": "code",
   "execution_count": null,
   "metadata": {
    "scrolled": true
   },
   "outputs": [],
   "source": [
    "s_p_ret.plot(color=\"grey\", figsize=size) "
   ]
  },
  {
   "cell_type": "code",
   "execution_count": null,
   "metadata": {
    "scrolled": true
   },
   "outputs": [],
   "source": [
    "ndq_ret"
   ]
  },
  {
   "cell_type": "code",
   "execution_count": null,
   "metadata": {
    "scrolled": true
   },
   "outputs": [],
   "source": [
    "ndq_ret.plot(color=\"grey\", figsize=size) "
   ]
  },
  {
   "cell_type": "code",
   "execution_count": null,
   "metadata": {
    "scrolled": true
   },
   "outputs": [],
   "source": [
    "gld_ret"
   ]
  },
  {
   "cell_type": "code",
   "execution_count": null,
   "metadata": {
    "scrolled": true
   },
   "outputs": [],
   "source": [
    "gld_ret.plot(color=\"grey\", figsize=size) "
   ]
  },
  {
   "cell_type": "code",
   "execution_count": null,
   "metadata": {
    "scrolled": true
   },
   "outputs": [],
   "source": [
    "oil_ret"
   ]
  },
  {
   "cell_type": "code",
   "execution_count": null,
   "metadata": {
    "scrolled": true
   },
   "outputs": [],
   "source": [
    "oil_ret.plot(color=\"grey\", figsize=size) "
   ]
  },
  {
   "cell_type": "code",
   "execution_count": null,
   "metadata": {
    "scrolled": true
   },
   "outputs": [],
   "source": [
    "trs_ret"
   ]
  },
  {
   "cell_type": "code",
   "execution_count": null,
   "metadata": {
    "scrolled": true
   },
   "outputs": [],
   "source": [
    "trs_ret.plot(color=\"grey\", figsize=size) "
   ]
  },
  {
   "cell_type": "markdown",
   "metadata": {},
   "source": [
    "# ab hier neue version"
   ]
  },
  {
   "cell_type": "code",
   "execution_count": null,
   "metadata": {
    "scrolled": true
   },
   "outputs": [],
   "source": [
    "def doplot(name :str,  axes : None, titl :str) : \n",
    "  all_ret[name].plot(color=['grey'], title=titl, ax=axes)\n",
    "  axes.set(xlabel=\"Datum\", ylabel=\"Quote\", ylim=(-0.2, +0.2))"
   ]
  },
  {
   "cell_type": "code",
   "execution_count": null,
   "metadata": {},
   "outputs": [],
   "source": [
    "def doplot2(name2 :str, axes : None, titl :str) :\n",
    "  all_ret[[BTC, name2]].plot(color=['lightgrey', 'black'], title=titl, ax=axes)\n",
    "  axes.set(xlabel=\"Datum\", ylabel=\"Quote\", ylim=(-0.1, +0.1))"
   ]
  },
  {
   "cell_type": "code",
   "execution_count": null,
   "metadata": {},
   "outputs": [],
   "source": [
    "def doplot3(name2 :str, axes : None, titl :str) :\n",
    "  all_ret[[BTC, name2]].plot(color=['lightgrey', 'black'], title=titl, ax=axes)\n",
    "  axes.set(xlabel=\"Datum\", ylabel=\"Quote\", ylim=(-0.03, +0.03))"
   ]
  },
  {
   "cell_type": "code",
   "execution_count": null,
   "metadata": {},
   "outputs": [],
   "source": [
    "fig, axes = plt.subplots(3, 2, figsize=(12, 12) , sharex=True)\n",
    "\n",
    "doplot (BTC, axes[0, 0], \"tägliche Veränderung Bitcoin\")\n",
    "doplot2(S_P, axes[0, 1], \"tägliche Veränderung S_P , Bitcoin\")\n",
    "doplot3(EUR, axes[1, 0], \"tägliche Veränderung Euro, Bitcoin\")\n",
    "doplot2(OIL, axes[1, 1], \"tägliche Veränderung Öl , Bitcoin\")\n",
    "doplot3(GLD, axes[2, 0], \"tägliche Veränderung Gold , Bitcoin\")\n",
    "doplot3(TRS, axes[2, 1], \"tägliche Veränderung Treasury , Bitcoin\")\n",
    "\n",
    "plt.show()"
   ]
  },
  {
   "cell_type": "code",
   "execution_count": null,
   "metadata": {},
   "outputs": [],
   "source": []
  }
 ],
 "metadata": {
  "kernelspec": {
   "display_name": "Python 3",
   "language": "python",
   "name": "python3"
  },
  "language_info": {
   "codemirror_mode": {
    "name": "ipython",
    "version": 3
   },
   "file_extension": ".py",
   "mimetype": "text/x-python",
   "name": "python",
   "nbconvert_exporter": "python",
   "pygments_lexer": "ipython3",
   "version": "3.7.6"
  }
 },
 "nbformat": 4,
 "nbformat_minor": 4
}
