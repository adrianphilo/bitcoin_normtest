{
 "cells": [
  {
   "cell_type": "markdown",
   "metadata": {},
   "source": [
    "## Anderson-Darling T test    \n",
    "von allen zeitreihen zu ITV1/ITV2 und rolling 1Y shapiro.   \n",
    "\n",
    "Anderson-Darling Test is a statistical test that can be used to evaluate whether a data sample comes from one of among many known data samples, named for Theodore Anderson and Donald Darling.\n",
    "\n",
    "It can be used to check whether a data sample is normal. The test is a modified version of a more sophisticated nonparametric goodness-of-fit statistical test called the Kolmogorov-Smirnov test.\n",
    "\n",
    "A feature of the Anderson-Darling test is that it returns a list of critical values rather than a single p-value. This can provide the basis for a more thorough interpretation of the result.\n",
    "\n",
    "The anderson() SciPy function implements the Anderson-Darling test. It takes as parameters the data sample and the name of the distribution to test it against. By default, the test will check against the Gaussian distribution (dist=’norm’).\n",
    "\n",
    "https://machinelearningmastery.com/a-gentle-introduction-to-normality-tests-in-python/    \n",
    "https://medium.com/@rrfd/testing-for-normality-applications-with-python-6bf06ed646a9\n"
   ]
  },
  {
   "cell_type": "code",
   "execution_count": null,
   "metadata": {
    "scrolled": true
   },
   "outputs": [],
   "source": [
    "%run a0_init.ipynb"
   ]
  },
  {
   "cell_type": "markdown",
   "metadata": {},
   "source": [
    "### Test for ITV1 / ITV2"
   ]
  },
  {
   "cell_type": "code",
   "execution_count": null,
   "metadata": {},
   "outputs": [],
   "source": [
    "#stats.anderson(eur_ret[EUR])"
   ]
  },
  {
   "cell_type": "code",
   "execution_count": null,
   "metadata": {},
   "outputs": [],
   "source": [
    "#stats.anderson(all_ret_fri[BTC])\n",
    "#eur_ret.apply( lambda x: stats.anderson( x ) )\n"
   ]
  },
  {
   "cell_type": "code",
   "execution_count": null,
   "metadata": {},
   "outputs": [],
   "source": [
    "size = (9, 6)\n",
    "# stats.shapiro(all_ret_fri[BTC])\n",
    "#and_itv1 = all_ret_fri[iv1_start : iv1_end].apply( lambda x: stats.anderson( x ), axis=0 ).dropna()\n",
    "#and_itv1[BTC]"
   ]
  },
  {
   "cell_type": "code",
   "execution_count": null,
   "metadata": {},
   "outputs": [],
   "source": [
    "#and_itv1"
   ]
  },
  {
   "cell_type": "code",
   "execution_count": null,
   "metadata": {},
   "outputs": [],
   "source": [
    "and_itv1 = all_ret_fri[iv1_start : iv1_end].apply( lambda x: sm.stats.diagnostic.normal_ad( x )[1]) #, axis=0 ).dropna()\n",
    "and_itv1"
   ]
  },
  {
   "cell_type": "code",
   "execution_count": null,
   "metadata": {},
   "outputs": [],
   "source": [
    "#and_itv2 = all_ret_fri[iv2_start : iv2_end].apply( lambda x: stats.anderson( x ), axis=0 ).dropna()\n",
    "#and_itv2"
   ]
  },
  {
   "cell_type": "code",
   "execution_count": null,
   "metadata": {},
   "outputs": [],
   "source": [
    "and_itv2 = all_ret_fri[iv2_start : iv2_end].apply( lambda x: sm.stats.diagnostic.normal_ad( x )[1]) #, axis=0 ).dropna()\n",
    "and_itv2"
   ]
  },
  {
   "cell_type": "markdown",
   "metadata": {},
   "source": [
    "### Test rolling 1Y"
   ]
  },
  {
   "cell_type": "code",
   "execution_count": null,
   "metadata": {},
   "outputs": [],
   "source": [
    "# return wert statistic\n",
    "#roll_0 = all_ret_fri.rolling(roll_size_week).apply( lambda x: stats.anderson( x )[0] ).dropna()\n",
    "roll_0 = all_ret_fri.rolling(roll_size_week).apply( lambda x: sm.stats.diagnostic.normal_ad( x )[0] ).dropna()\n",
    "roll_0"
   ]
  },
  {
   "cell_type": "code",
   "execution_count": null,
   "metadata": {
    "scrolled": true
   },
   "outputs": [],
   "source": [
    "# return wert p (normalverteilt wenn > 0.05)\n",
    "#roll_1 = all_ret_fri.rolling(roll_size_week).apply( lambda x: stats.anderson( x )[1][2] ).dropna()\n",
    "roll_1 = all_ret_fri.rolling(roll_size_week).apply( lambda x: sm.stats.diagnostic.normal_ad( x )[1] ).dropna()\n",
    "roll_1"
   ]
  },
  {
   "cell_type": "code",
   "execution_count": null,
   "metadata": {
    "scrolled": true
   },
   "outputs": [],
   "source": [
    "#Normalverteilt wenn statis < level >> durch \"statistic - rejection)\" < 0 = normvert\n",
    "\n",
    "#\tif result.statistic < result.critical_values[i]:\n",
    "#\t\tprint('%.3f: %.3f, data looks normal (fail to reject H0)' % (sl, cv))\n",
    "#\telse:\n",
    "#\t\tprint('%.3f: %.3f, data does not look normal (reject H0)' % (sl, cv))\n",
    "\n",
    "#roll_ = roll_0\n",
    "roll_ = roll_1 #roll_0 - roll_1\n",
    "roll_[BTC].plot(color=\"grey\", figsize=size)#.get_figure().savefig('/home/zebra/hostbooks/bitcoin_thesis/aaa.svg') "
   ]
  },
  {
   "cell_type": "code",
   "execution_count": null,
   "metadata": {
    "scrolled": true
   },
   "outputs": [],
   "source": [
    "roll_[EUR].plot(color=\"grey\", figsize=size) "
   ]
  },
  {
   "cell_type": "code",
   "execution_count": null,
   "metadata": {
    "scrolled": true
   },
   "outputs": [],
   "source": [
    "roll_[S_P].plot(color=\"grey\", figsize=size) "
   ]
  },
  {
   "cell_type": "code",
   "execution_count": null,
   "metadata": {
    "scrolled": true
   },
   "outputs": [],
   "source": [
    "roll_[NDQ].plot(color=\"grey\", figsize=size) "
   ]
  },
  {
   "cell_type": "code",
   "execution_count": null,
   "metadata": {
    "scrolled": true
   },
   "outputs": [],
   "source": [
    "roll_[GLD].plot(color=\"grey\", figsize=size) "
   ]
  },
  {
   "cell_type": "code",
   "execution_count": null,
   "metadata": {
    "scrolled": true
   },
   "outputs": [],
   "source": [
    "roll_[OIL].plot(color=\"grey\", figsize=size) "
   ]
  },
  {
   "cell_type": "code",
   "execution_count": null,
   "metadata": {
    "scrolled": true
   },
   "outputs": [],
   "source": [
    "roll_[TRS].plot(color=\"grey\", figsize=size) "
   ]
  },
  {
   "cell_type": "code",
   "execution_count": null,
   "metadata": {
    "scrolled": true
   },
   "outputs": [],
   "source": [
    "roll_[[BTC, NDQ]].plot(color=['grey', 'black'], figsize=size) "
   ]
  },
  {
   "cell_type": "code",
   "execution_count": null,
   "metadata": {
    "scrolled": true
   },
   "outputs": [],
   "source": [
    "roll_[[BTC, OIL]].plot(color=['grey', 'black'],figsize=size) "
   ]
  },
  {
   "cell_type": "code",
   "execution_count": null,
   "metadata": {
    "scrolled": true
   },
   "outputs": [],
   "source": [
    "roll_[[BTC, TRS]].plot(color=['grey', 'black'], figsize=size) "
   ]
  },
  {
   "cell_type": "markdown",
   "metadata": {},
   "source": [
    "# new try"
   ]
  },
  {
   "cell_type": "code",
   "execution_count": null,
   "metadata": {},
   "outputs": [],
   "source": [
    "def doplot1(serie :pd.Series, NAM :str,  axes : None) :\n",
    "  if (NAM == BTC):  \n",
    "    serie[NAM].plot(color=['black'], ax=axes,  rot=30, title=BTC+\" anders-darl of weekly change, rolling 1Y\")\n",
    "  else:  \n",
    "    serie[[BTC, NAM]].plot(color=['lightgrey', 'black'], ax=axes,  rot=30, title=NAM+\" / \"+BTC+\" anders-darl of weekly change, rolling 1Y\") \n",
    "\n",
    "  axes.set(xlabel=\"Datum\", ylabel=\"p-value\" ) "
   ]
  },
  {
   "cell_type": "code",
   "execution_count": null,
   "metadata": {},
   "outputs": [],
   "source": [
    "fig, axes = plt.subplots(3, 2, figsize=(13, 13) , sharex=True , sharey=True)\n",
    "\n",
    "doplot1 (roll_, BTC, axes[0, 0])\n",
    "doplot1 (roll_, S_P, axes[0, 1])\n",
    "doplot1 (roll_, EUR, axes[1, 0])\n",
    "doplot1 (roll_, OIL, axes[1, 1])\n",
    "doplot1 (roll_, GLD, axes[2, 0])\n",
    "doplot1 (roll_, TRS, axes[2, 1])\n",
    "\n",
    "plt.show()"
   ]
  },
  {
   "cell_type": "code",
   "execution_count": null,
   "metadata": {},
   "outputs": [],
   "source": []
  }
 ],
 "metadata": {
  "kernelspec": {
   "display_name": "Python 3",
   "language": "python",
   "name": "python3"
  },
  "language_info": {
   "codemirror_mode": {
    "name": "ipython",
    "version": 3
   },
   "file_extension": ".py",
   "mimetype": "text/x-python",
   "name": "python",
   "nbconvert_exporter": "python",
   "pygments_lexer": "ipython3",
   "version": "3.7.6"
  }
 },
 "nbformat": 4,
 "nbformat_minor": 4
}
