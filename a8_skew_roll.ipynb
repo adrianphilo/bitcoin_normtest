{
 "cells": [
  {
   "cell_type": "markdown",
   "metadata": {},
   "source": [
    "## skew\n",
    "Overview:\n",
    "\n",
    "    Skewness is a measure of asymmetry of a distribution. Another measure that describes the shape of a distribution is kurtosis.\n",
    "    In a normal distribution, the mean divides the curve symmetrically into two equal parts at the median and the value of skewness is zero.\n",
    "    When a distribution is asymmetrical the tail of the distribution is skewed to one side-to the right or to the left.\n",
    "    When the value of the skewness is negative, the tail of the distribution is longer towards the left hand side of the curve.\n",
    "    When the value of the skewness is positive, the tail of the distribution is longer towards the right hand side of the curve.\n",
    "\n",
    "skewness()  function in pandas:\n",
    "\n",
    "    The DataFrame class of pandas has a method skew() that computes the skewness of the data present in a given axis of the DataFrame object.\n",
    "    Skewness is computed for each row or each column of the data present in the DataFrame object.\n"
   ]
  },
  {
   "cell_type": "code",
   "execution_count": null,
   "metadata": {
    "scrolled": true
   },
   "outputs": [],
   "source": [
    "%run a0_init.ipynb"
   ]
  },
  {
   "cell_type": "markdown",
   "metadata": {},
   "source": [
    "### Skew for ITV1 / TV2"
   ]
  },
  {
   "cell_type": "code",
   "execution_count": null,
   "metadata": {},
   "outputs": [],
   "source": [
    "size = (9, 6)\n",
    "all_ret[iv1_start:iv1_end].skew()"
   ]
  },
  {
   "cell_type": "code",
   "execution_count": null,
   "metadata": {},
   "outputs": [],
   "source": [
    "all_ret[iv2_start:iv2_end].skew()"
   ]
  },
  {
   "cell_type": "markdown",
   "metadata": {},
   "source": [
    "### Skew rolling 1Y"
   ]
  },
  {
   "cell_type": "code",
   "execution_count": null,
   "metadata": {},
   "outputs": [],
   "source": [
    "roll_ = all_ret.rolling(roll_size).skew().dropna()\n",
    "roll_"
   ]
  },
  {
   "cell_type": "code",
   "execution_count": null,
   "metadata": {
    "scrolled": true
   },
   "outputs": [],
   "source": [
    "roll_[BTC].plot(color=\"grey\", figsize=size)"
   ]
  },
  {
   "cell_type": "code",
   "execution_count": null,
   "metadata": {
    "scrolled": true
   },
   "outputs": [],
   "source": [
    "roll_[EUR].plot(color=\"grey\", figsize=size) "
   ]
  },
  {
   "cell_type": "code",
   "execution_count": null,
   "metadata": {
    "scrolled": true
   },
   "outputs": [],
   "source": [
    "roll_[S_P].plot(color=\"grey\", figsize=size) "
   ]
  },
  {
   "cell_type": "code",
   "execution_count": null,
   "metadata": {
    "scrolled": true
   },
   "outputs": [],
   "source": [
    "roll_[NDQ].plot(color=\"grey\", figsize=size) "
   ]
  },
  {
   "cell_type": "code",
   "execution_count": null,
   "metadata": {
    "scrolled": true
   },
   "outputs": [],
   "source": [
    "roll_[GLD].plot(color=\"grey\", figsize=size) "
   ]
  },
  {
   "cell_type": "code",
   "execution_count": null,
   "metadata": {
    "scrolled": true
   },
   "outputs": [],
   "source": [
    "roll_[OIL].plot(color=\"grey\", figsize=size) "
   ]
  },
  {
   "cell_type": "code",
   "execution_count": null,
   "metadata": {
    "scrolled": true
   },
   "outputs": [],
   "source": [
    "roll_[TRS].plot(color=\"grey\", figsize=size) "
   ]
  },
  {
   "cell_type": "code",
   "execution_count": null,
   "metadata": {
    "scrolled": true
   },
   "outputs": [],
   "source": [
    "roll_[[BTC, NDQ]].plot(color=['grey', 'black'], figsize=size) "
   ]
  },
  {
   "cell_type": "code",
   "execution_count": null,
   "metadata": {
    "scrolled": true
   },
   "outputs": [],
   "source": [
    "roll_[[BTC, OIL]].plot(color=['grey', 'black'],figsize=size) "
   ]
  },
  {
   "cell_type": "code",
   "execution_count": null,
   "metadata": {
    "scrolled": true
   },
   "outputs": [],
   "source": [
    "roll_[[BTC, TRS]].plot(color=['grey', 'black'], figsize=size) "
   ]
  }
 ],
 "metadata": {
  "kernelspec": {
   "display_name": "Python 3",
   "language": "python",
   "name": "python3"
  },
  "language_info": {
   "codemirror_mode": {
    "name": "ipython",
    "version": 3
   },
   "file_extension": ".py",
   "mimetype": "text/x-python",
   "name": "python",
   "nbconvert_exporter": "python",
   "pygments_lexer": "ipython3",
   "version": "3.7.6"
  }
 },
 "nbformat": 4,
 "nbformat_minor": 4
}
