{
 "cells": [
  {
   "cell_type": "markdown",
   "metadata": {},
   "source": [
    "Analog der täglichen Veränderung, werdem hier die wöchentlichen Veränderungen dargestellt.  "
   ]
  },
  {
   "cell_type": "code",
   "execution_count": null,
   "metadata": {
    "scrolled": true
   },
   "outputs": [],
   "source": [
    "%run a0_init.ipynb"
   ]
  },
  {
   "cell_type": "markdown",
   "metadata": {},
   "source": [
    "### Show all returns"
   ]
  },
  {
   "cell_type": "code",
   "execution_count": null,
   "metadata": {
    "scrolled": true
   },
   "outputs": [],
   "source": [
    "#pd.set_option('display.max_rows', None)\n",
    "size = (9, 6)\n",
    "all_ret_fri"
   ]
  },
  {
   "cell_type": "code",
   "execution_count": null,
   "metadata": {
    "scrolled": true
   },
   "outputs": [],
   "source": [
    "all_ret_fri[BTC].plot(color=\"grey\", figsize=size).set_title(BTC)#.get_figure().savefig('/home/zebra/hostbooks/bitcoin_thesis/aaa.svg') "
   ]
  },
  {
   "cell_type": "code",
   "execution_count": null,
   "metadata": {
    "scrolled": true
   },
   "outputs": [],
   "source": [
    "all_ret_fri[EUR].plot(color=\"grey\", figsize=size).set_title(EUR)"
   ]
  },
  {
   "cell_type": "code",
   "execution_count": null,
   "metadata": {
    "scrolled": true
   },
   "outputs": [],
   "source": [
    "all_ret_fri[S_P].plot(color=\"grey\", figsize=size).set_title(S_P)"
   ]
  },
  {
   "cell_type": "code",
   "execution_count": null,
   "metadata": {
    "scrolled": true
   },
   "outputs": [],
   "source": [
    "all_ret_fri[NDQ].plot(color=\"grey\", figsize=size).set_title(NDQ)"
   ]
  },
  {
   "cell_type": "code",
   "execution_count": null,
   "metadata": {
    "scrolled": true
   },
   "outputs": [],
   "source": [
    "all_ret_fri[GLD].plot(color=\"grey\", figsize=size).set_title(GLD) "
   ]
  },
  {
   "cell_type": "code",
   "execution_count": null,
   "metadata": {
    "scrolled": true
   },
   "outputs": [],
   "source": [
    "all_ret_fri[OIL].plot(color=\"grey\", figsize=size).set_title(OIL)"
   ]
  },
  {
   "cell_type": "code",
   "execution_count": null,
   "metadata": {
    "scrolled": true
   },
   "outputs": [],
   "source": [
    "all_ret_fri[TRS].plot(color=\"grey\", figsize=size).set_title(TRS)"
   ]
  },
  {
   "cell_type": "code",
   "execution_count": null,
   "metadata": {
    "scrolled": true
   },
   "outputs": [],
   "source": [
    "all_ret_fri[[BTC, NDQ]].plot(color=['grey', 'black'], figsize=size) "
   ]
  },
  {
   "cell_type": "code",
   "execution_count": null,
   "metadata": {
    "scrolled": true
   },
   "outputs": [],
   "source": [
    "all_ret_fri[[BTC, OIL]].plot(color=['grey', 'black'],figsize=size) "
   ]
  },
  {
   "cell_type": "code",
   "execution_count": null,
   "metadata": {
    "scrolled": true
   },
   "outputs": [],
   "source": [
    "all_ret_fri[[BTC, TRS]].plot(color=['grey', 'black'], figsize=size) "
   ]
  },
  {
   "cell_type": "markdown",
   "metadata": {},
   "source": [
    "# ab hier neue version"
   ]
  },
  {
   "cell_type": "code",
   "execution_count": null,
   "metadata": {
    "scrolled": true
   },
   "outputs": [],
   "source": [
    "def doplot(name :str,  axes : None, titl :str) : \n",
    "  all_ret_fri[name].plot(color=['grey'], title=titl, ax=axes)\n",
    "  axes.set(xlabel=\"Datum\", ylabel=\"Quote\", ylim=(-0.25, +0.25))"
   ]
  },
  {
   "cell_type": "code",
   "execution_count": null,
   "metadata": {},
   "outputs": [],
   "source": [
    "def doplot2(name2 :str, axes : None, titl :str) :\n",
    "  all_ret_fri[[BTC, name2]].plot(color=['lightgrey', 'black'], title=titl, ax=axes)\n",
    "  axes.set(xlabel=\"Datum\", ylabel=\"Quote\", ylim=(-0.15, +0.15))"
   ]
  },
  {
   "cell_type": "code",
   "execution_count": null,
   "metadata": {},
   "outputs": [],
   "source": [
    "def doplot3(name2 :str, axes : None, titl :str) :\n",
    "  all_ret_fri[[BTC, name2]].plot(color=['lightgrey', 'black'], title=titl, ax=axes)\n",
    "  axes.set(xlabel=\"Datum\", ylabel=\"Quote\", ylim=(-0.07, +0.07))"
   ]
  },
  {
   "cell_type": "code",
   "execution_count": null,
   "metadata": {},
   "outputs": [],
   "source": [
    "fig, axes = plt.subplots(3, 2, figsize=(12, 12) , sharex=True)\n",
    "\n",
    "doplot (BTC, axes[0, 0], \"wöchentliche Veränderung Bitcoin\")\n",
    "doplot2(S_P, axes[0, 1], \"wöchentliche Veränderung S_P , Bitcoin\")\n",
    "doplot3(EUR, axes[1, 0], \"wöchentliche Veränderung Euro, Bitcoin\")\n",
    "doplot2(OIL, axes[1, 1], \"wöchentliche Veränderung Öl , Bitcoin\")\n",
    "doplot3(GLD, axes[2, 0], \"wöchentliche Veränderung Gold , Bitcoin\")\n",
    "doplot3(TRS, axes[2, 1], \"wöchentliche Veränderung Treasury , Bitcoin\")\n",
    "\n",
    "plt.show()"
   ]
  },
  {
   "cell_type": "code",
   "execution_count": null,
   "metadata": {},
   "outputs": [],
   "source": []
  }
 ],
 "metadata": {
  "kernelspec": {
   "display_name": "Python 3",
   "language": "python",
   "name": "python3"
  },
  "language_info": {
   "codemirror_mode": {
    "name": "ipython",
    "version": 3
   },
   "file_extension": ".py",
   "mimetype": "text/x-python",
   "name": "python",
   "nbconvert_exporter": "python",
   "pygments_lexer": "ipython3",
   "version": "3.7.6"
  }
 },
 "nbformat": 4,
 "nbformat_minor": 4
}
