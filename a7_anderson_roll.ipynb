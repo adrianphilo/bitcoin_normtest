{
 "cells": [
  {
   "cell_type": "markdown",
   "metadata": {},
   "source": [
    "## Anderson-Darling T test    \n",
    "von allen zeitreihen zu ITV1/ITV2 und rolling 1Y shapiro.   \n",
    "\n",
    "Anderson-Darling Test is a statistical test that can be used to evaluate whether a data sample comes from one of among many known data samples, named for Theodore Anderson and Donald Darling.\n",
    "\n",
    "It can be used to check whether a data sample is normal. The test is a modified version of a more sophisticated nonparametric goodness-of-fit statistical test called the Kolmogorov-Smirnov test.\n",
    "\n",
    "A feature of the Anderson-Darling test is that it returns a list of critical values rather than a single p-value. This can provide the basis for a more thorough interpretation of the result.\n",
    "\n",
    "The anderson() SciPy function implements the Anderson-Darling test. It takes as parameters the data sample and the name of the distribution to test it against. By default, the test will check against the Gaussian distribution (dist=’norm’).\n",
    "\n",
    "https://machinelearningmastery.com/a-gentle-introduction-to-normality-tests-in-python/    \n",
    "https://medium.com/@rrfd/testing-for-normality-applications-with-python-6bf06ed646a9\n"
   ]
  },
  {
   "cell_type": "code",
   "execution_count": null,
   "metadata": {
    "scrolled": true
   },
   "outputs": [],
   "source": [
    "%run a0_init.ipynb"
   ]
  },
  {
   "cell_type": "markdown",
   "metadata": {},
   "source": [
    "### Test for ITV1 / ITV2"
   ]
  },
  {
   "cell_type": "code",
   "execution_count": null,
   "metadata": {},
   "outputs": [],
   "source": [
    "size = (9, 6)\n",
    "# stats.shapiro(all_ret[BTC])\n",
    "#and_itv1 = all_ret[iv1_start : iv1_end].apply( lambda x: stats.anderson( x ), axis=0 ).dropna()\n",
    "#and_itv1[BTC]"
   ]
  },
  {
   "cell_type": "code",
   "execution_count": null,
   "metadata": {},
   "outputs": [],
   "source": [
    "#and_itv1"
   ]
  },
  {
   "cell_type": "code",
   "execution_count": null,
   "metadata": {},
   "outputs": [],
   "source": [
    "and_itv1 = all_ret[iv1_start : iv1_end].apply( lambda x: sm.stats.diagnostic.normal_ad( x )[1]) #, axis=0 ).dropna()\n",
    "and_itv1"
   ]
  },
  {
   "cell_type": "code",
   "execution_count": null,
   "metadata": {},
   "outputs": [],
   "source": [
    "#and_itv2 = all_ret[iv2_start : iv2_end].apply( lambda x: stats.anderson( x ), axis=0 ).dropna()\n",
    "#and_itv2"
   ]
  },
  {
   "cell_type": "code",
   "execution_count": null,
   "metadata": {},
   "outputs": [],
   "source": [
    "and_itv2 = all_ret[iv2_start : iv2_end].apply( lambda x: sm.stats.diagnostic.normal_ad( x )[1]) #, axis=0 ).dropna()\n",
    "and_itv2"
   ]
  },
  {
   "cell_type": "markdown",
   "metadata": {},
   "source": [
    "### Test rolling 1Y"
   ]
  },
  {
   "cell_type": "code",
   "execution_count": null,
   "metadata": {},
   "outputs": [],
   "source": [
    "# return wert statistic\n",
    "# roll_0 = all_ret.rolling(roll_size).apply( lambda x: stats.anderson( x )[0] ).dropna()\n",
    "roll_0 = all_ret.rolling(roll_size).apply( lambda x: sm.stats.diagnostic.normal_ad( x )[0] ).dropna()\n",
    "roll_0"
   ]
  },
  {
   "cell_type": "code",
   "execution_count": null,
   "metadata": {
    "scrolled": true
   },
   "outputs": [],
   "source": [
    "# return wert rejection level (normalverteilt wenn statistic < rejection)\n",
    "#roll_1 = all_ret.rolling(roll_size).apply( lambda x: stats.anderson( x )[1][2] ).dropna()\n",
    "roll_1 = all_ret.rolling(roll_size).apply( lambda x: sm.stats.diagnostic.normal_ad( x )[1] ).dropna()\n",
    "roll_1"
   ]
  },
  {
   "cell_type": "code",
   "execution_count": null,
   "metadata": {
    "scrolled": true
   },
   "outputs": [],
   "source": [
    "#Normalverteilt wenn statis < level >> durch \"statistic - rejection)\" < 0 = normvert\n",
    "\n",
    "#\tif result.statistic < result.critical_values[i]:\n",
    "#\t\tprint('%.3f: %.3f, data looks normal (fail to reject H0)' % (sl, cv))\n",
    "#\telse:\n",
    "#\t\tprint('%.3f: %.3f, data does not look normal (reject H0)' % (sl, cv))\n",
    "\n",
    "#roll_ = roll_0\n",
    "roll_ = roll_1  #roll_0 - roll_1\n",
    "roll_[BTC].plot(color=\"grey\", figsize=size)#.get_figure().savefig('/home/zebra/hostbooks/bitcoin_thesis/aaa.svg') "
   ]
  },
  {
   "cell_type": "code",
   "execution_count": null,
   "metadata": {
    "scrolled": true
   },
   "outputs": [],
   "source": [
    "roll_[EUR].plot(color=\"grey\", figsize=size) "
   ]
  },
  {
   "cell_type": "code",
   "execution_count": null,
   "metadata": {
    "scrolled": true
   },
   "outputs": [],
   "source": [
    "roll_[S_P].plot(color=\"grey\", figsize=size) "
   ]
  },
  {
   "cell_type": "code",
   "execution_count": null,
   "metadata": {
    "scrolled": true
   },
   "outputs": [],
   "source": [
    "roll_[NDQ].plot(color=\"grey\", figsize=size) "
   ]
  },
  {
   "cell_type": "code",
   "execution_count": null,
   "metadata": {
    "scrolled": true
   },
   "outputs": [],
   "source": [
    "roll_[GLD].plot(color=\"grey\", figsize=size) "
   ]
  },
  {
   "cell_type": "code",
   "execution_count": null,
   "metadata": {
    "scrolled": true
   },
   "outputs": [],
   "source": [
    "roll_[OIL].plot(color=\"grey\", figsize=size) "
   ]
  },
  {
   "cell_type": "code",
   "execution_count": null,
   "metadata": {
    "scrolled": true
   },
   "outputs": [],
   "source": [
    "roll_[TRS].plot(color=\"grey\", figsize=size) "
   ]
  },
  {
   "cell_type": "code",
   "execution_count": null,
   "metadata": {
    "scrolled": true
   },
   "outputs": [],
   "source": [
    "roll_[[BTC, NDQ]].plot(color=['grey', 'black'], figsize=size) "
   ]
  },
  {
   "cell_type": "code",
   "execution_count": null,
   "metadata": {
    "scrolled": true
   },
   "outputs": [],
   "source": [
    "roll_[[BTC, OIL]].plot(color=['grey', 'black'],figsize=size) "
   ]
  },
  {
   "cell_type": "code",
   "execution_count": null,
   "metadata": {
    "scrolled": true
   },
   "outputs": [],
   "source": [
    "roll_[[BTC, TRS]].plot(color=['grey', 'black'], figsize=size) "
   ]
  },
  {
   "cell_type": "code",
   "execution_count": null,
   "metadata": {},
   "outputs": [],
   "source": []
  }
 ],
 "metadata": {
  "kernelspec": {
   "display_name": "Python 3",
   "language": "python",
   "name": "python3"
  },
  "language_info": {
   "codemirror_mode": {
    "name": "ipython",
    "version": 3
   },
   "file_extension": ".py",
   "mimetype": "text/x-python",
   "name": "python",
   "nbconvert_exporter": "python",
   "pygments_lexer": "ipython3",
   "version": "3.7.6"
  }
 },
 "nbformat": 4,
 "nbformat_minor": 4
}
