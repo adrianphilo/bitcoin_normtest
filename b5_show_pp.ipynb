{
 "cells": [
  {
   "cell_type": "markdown",
   "metadata": {},
   "source": [
    "Zeigt den PP-Plot von allen Zeitreihen\n",
    "Das Auswertunginterval wird mit \"start\" und \"end\" eingestellt"
   ]
  },
  {
   "cell_type": "code",
   "execution_count": null,
   "metadata": {},
   "outputs": [],
   "source": [
    "%run a0_init.ipynb"
   ]
  },
  {
   "cell_type": "code",
   "execution_count": null,
   "metadata": {},
   "outputs": [],
   "source": [
    "# setzen von start und ende des Auswertungsintervalls\n",
    "size = (9, 6)\n",
    "\n",
    "start = iv2_start\n",
    "end   = iv2_end\n",
    "print(\"period start : \", start)\n",
    "print(\"period end   : \", end)"
   ]
  },
  {
   "cell_type": "code",
   "execution_count": null,
   "metadata": {},
   "outputs": [],
   "source": [
    "all_ret_fri[start : end]"
   ]
  },
  {
   "cell_type": "markdown",
   "metadata": {},
   "source": [
    "### Show all PP-Plots"
   ]
  },
  {
   "cell_type": "code",
   "execution_count": null,
   "metadata": {},
   "outputs": [],
   "source": [
    "def plotPP (serie :pd.Series, NAM :str):\n",
    "  f, ax = plt.subplots(1, 1, figsize=size)\n",
    "  ax.set_title(\"PP-Plot \" + NAM)\n",
    "  pp = sm.ProbPlot(serie[start : end][NAM], fit=True).ppplot(line='45', ax=ax, color='grey', markerfacecolor='black')\n",
    "  ax.get_lines()[1].set_color('black')"
   ]
  },
  {
   "cell_type": "code",
   "execution_count": null,
   "metadata": {},
   "outputs": [],
   "source": [
    "plotPP(all_ret_fri, BTC)"
   ]
  },
  {
   "cell_type": "code",
   "execution_count": null,
   "metadata": {},
   "outputs": [],
   "source": [
    "plotPP(all_ret_fri, EUR)"
   ]
  },
  {
   "cell_type": "code",
   "execution_count": null,
   "metadata": {},
   "outputs": [],
   "source": [
    "plotPP(all_ret_fri, S_P)"
   ]
  },
  {
   "cell_type": "code",
   "execution_count": null,
   "metadata": {},
   "outputs": [],
   "source": [
    "plotPP(all_ret_fri, NDQ)"
   ]
  },
  {
   "cell_type": "code",
   "execution_count": null,
   "metadata": {},
   "outputs": [],
   "source": [
    "plotPP(all_ret_fri, GLD)"
   ]
  },
  {
   "cell_type": "code",
   "execution_count": null,
   "metadata": {},
   "outputs": [],
   "source": [
    "plotPP(all_ret_fri, OIL)"
   ]
  },
  {
   "cell_type": "code",
   "execution_count": null,
   "metadata": {},
   "outputs": [],
   "source": [
    "plotPP(all_ret_fri, TRS)"
   ]
  },
  {
   "cell_type": "markdown",
   "metadata": {},
   "source": [
    "# NEW TRY"
   ]
  },
  {
   "cell_type": "code",
   "execution_count": null,
   "metadata": {},
   "outputs": [],
   "source": [
    "def doplot1(NAM :str,  axes : None) : \n",
    "  sm.ProbPlot(all_ret_fri[iv1_start : iv1_end][NAM], fit=True).ppplot(line='45', ax=axes, color='lightgrey', markerfacecolor='black')\n",
    "  axes.set(title=\"PP-Plot \" + NAM + \" - Weekly / Itv.1\" )   # xlabel=\"Datum\", ylabel=\"Quote\", ylim=(-0.2, +0.2))    \n",
    "  axes.get_lines()[1].set_color('black')\n",
    "\n",
    "def doplot2(NAM :str,  axes : None) : \n",
    "  sm.ProbPlot(all_ret_fri[iv2_start : iv2_end][NAM], fit=True).ppplot(line='45', ax=axes, color='lightgrey', markerfacecolor='black')\n",
    "  axes.set(title=\"PP-Plot \" + NAM + \" - Weekly / Itv.2\" )   # xlabel=\"Datum\", ylabel=\"Quote\", ylim=(-0.2, +0.2))    \n",
    "  axes.get_lines()[1].set_color('black')"
   ]
  },
  {
   "cell_type": "code",
   "execution_count": null,
   "metadata": {},
   "outputs": [],
   "source": [
    "fig, axes = plt.subplots(1, 1, figsize=(8, 6) )\n",
    "sm.ProbPlot(all_ret_fri[iv1_start : iv1_end][S_P], fit=True).ppplot(ax=axes, color='lightgrey') #, markerfacecolor='black')\n",
    "sm.ProbPlot(all_ret_fri[iv1_start : iv1_end][BTC], fit=True).ppplot(ax=axes, color='grey' ) #, line='45') #, markerfacecolor='black')\n",
    "axes.set(title=\"PP-Plot bitcoin (darkgrey) vs S&P (lightgrey) - weekly / Itv.1\")\n",
    "plt.show()"
   ]
  },
  {
   "cell_type": "code",
   "execution_count": null,
   "metadata": {},
   "outputs": [],
   "source": [
    "fig, axes = plt.subplots(3, 2, figsize=(12, 12) , sharex=True, sharey=True)\n",
    "\n",
    "doplot1 (BTC, axes[0, 0])\n",
    "doplot1 (S_P, axes[0, 1])\n",
    "doplot1 (EUR, axes[1, 0])\n",
    "doplot1 (OIL, axes[1, 1])\n",
    "doplot1 (GLD, axes[2, 0])\n",
    "doplot1 (TRS, axes[2, 1])\n",
    "\n",
    "plt.show()"
   ]
  },
  {
   "cell_type": "code",
   "execution_count": null,
   "metadata": {},
   "outputs": [],
   "source": [
    "fig, axes = plt.subplots(3, 2, figsize=(12, 12) , sharex=True, sharey=True)\n",
    "\n",
    "doplot2 (BTC, axes[0, 0])\n",
    "doplot2 (S_P, axes[0, 1])\n",
    "doplot2 (EUR, axes[1, 0])\n",
    "doplot2 (OIL, axes[1, 1])\n",
    "doplot2 (GLD, axes[2, 0])\n",
    "doplot2 (TRS, axes[2, 1])\n",
    "\n",
    "plt.show()"
   ]
  },
  {
   "cell_type": "code",
   "execution_count": null,
   "metadata": {},
   "outputs": [],
   "source": []
  }
 ],
 "metadata": {
  "kernelspec": {
   "display_name": "Python 3",
   "language": "python",
   "name": "python3"
  },
  "language_info": {
   "codemirror_mode": {
    "name": "ipython",
    "version": 3
   },
   "file_extension": ".py",
   "mimetype": "text/x-python",
   "name": "python",
   "nbconvert_exporter": "python",
   "pygments_lexer": "ipython3",
   "version": "3.7.6"
  }
 },
 "nbformat": 4,
 "nbformat_minor": 4
}
