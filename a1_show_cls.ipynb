{
 "cells": [
  {
   "cell_type": "markdown",
   "metadata": {},
   "source": [
    "In diesem Kapitel werden die Zeitreihen vorgestellt und grafisch dargestellt, die in den Analysen benutzt werden.   \n",
    "Hierbei werden die jeweiligen Clsoing-Kurse auf täglicher Basis benutzt und gehen vom 3.1.2017 bis 10.7.2020."
   ]
  },
  {
   "cell_type": "code",
   "execution_count": null,
   "metadata": {},
   "outputs": [],
   "source": [
    "%run a0_init.ipynb"
   ]
  },
  {
   "cell_type": "markdown",
   "metadata": {},
   "source": [
    "### Tägliche Schlusskurse des Bitcoin in USD (Ticker BTC-USD)\n",
    "Der Bitcoin ist der Gegenstand der Untersuchung und wird auf verschiedene Weisen mit anderen Zeitreihen von verschiedenen Assetklassen verglichen."
   ]
  },
  {
   "cell_type": "code",
   "execution_count": null,
   "metadata": {},
   "outputs": [],
   "source": [
    "#pd.set_option('display.max_rows', None)\n",
    "size = (7.5, 5)\n",
    "btc_cls"
   ]
  },
  {
   "cell_type": "code",
   "execution_count": null,
   "metadata": {},
   "outputs": [],
   "source": [
    "#ax = btc_cls.plot(color=\"black\", title=\"Bitcoin Kurs in USD vom 3.1.2017 bis 10.7.2020\")\n",
    "ax = btc_cls.plot(color=\"black\", figsize=(7.5, 5), title=\"Bitcoin Kurs in USD vom 3.1.2017 bis 10.7.2020\")\n",
    "# .get_figure().savefig('/home/zebra/hostbooks/bitcoin_thesis/aa2.png')\n",
    "ax.set(xlabel='Datum', ylabel='USD')\n",
    "plt.show()"
   ]
  },
  {
   "cell_type": "markdown",
   "metadata": {},
   "source": [
    "### Täglicher Schlussstand des S&P Aktienindex (Ticker ^GSPC)\n",
    "Der Standard & Poors Aktienindex wird als Repräsentant der Assetklasse Aktien benutzt."
   ]
  },
  {
   "cell_type": "code",
   "execution_count": null,
   "metadata": {},
   "outputs": [],
   "source": [
    "s_p_cls"
   ]
  },
  {
   "cell_type": "code",
   "execution_count": null,
   "metadata": {},
   "outputs": [],
   "source": [
    "ax = s_p_cls.plot(color=\"black\", figsize=size, title=\"S&P-Index vom 3.1.2017 bis 10.7.2020\")\n",
    "ax.set(xlabel='Datum', ylabel='Index-Punkte')\n",
    "plt.show()"
   ]
  },
  {
   "cell_type": "markdown",
   "metadata": {},
   "source": [
    "### Täglicher Schlusskurs des Euro Währungskurses zum USD (Ticker EUR-USD)\n",
    "Der Euro-Währunskurs wird als Repräsentant einer Währung benutzt."
   ]
  },
  {
   "cell_type": "code",
   "execution_count": null,
   "metadata": {},
   "outputs": [],
   "source": [
    "eur_cls"
   ]
  },
  {
   "cell_type": "code",
   "execution_count": null,
   "metadata": {},
   "outputs": [],
   "source": [
    "ax = eur_cls.plot(color=\"black\", figsize=size, title=\"Euro Kurs in USD vom 3.1.2017 bis 10.7.2020\")\n",
    "ax.set(xlabel='Datum', ylabel='USD')\n",
    "plt.show()"
   ]
  },
  {
   "cell_type": "code",
   "execution_count": null,
   "metadata": {},
   "outputs": [],
   "source": [
    "#ndq_cls"
   ]
  },
  {
   "cell_type": "code",
   "execution_count": null,
   "metadata": {},
   "outputs": [],
   "source": [
    "#ndq_cls.plot(color=\"black\", figsize=size)"
   ]
  },
  {
   "cell_type": "markdown",
   "metadata": {},
   "source": [
    "### Täglicher Schlussstand des Brent Crude Ölpreis pro Barrel in USD (ISIN XC0009677409)\n",
    "Der Brent Crude Ölpreis wird als Repräsentant einer Rohstoffs benutzt, der konjunkturabhängig ist."
   ]
  },
  {
   "cell_type": "code",
   "execution_count": null,
   "metadata": {},
   "outputs": [],
   "source": [
    "oil_cls"
   ]
  },
  {
   "cell_type": "code",
   "execution_count": null,
   "metadata": {},
   "outputs": [],
   "source": [
    "ax = oil_cls.plot(color=\"black\", figsize=size, title=\"Brent Crude Ölpreis pro Barrel in USD vom 3.1.2017 bis 10.7.2020\")\n",
    "ax.set(xlabel='Datum', ylabel='USD')\n",
    "plt.show()"
   ]
  },
  {
   "cell_type": "markdown",
   "metadata": {},
   "source": [
    "### Täglicher Schlussstand des Preises für ein Feinunze Gold in USD (ISIN XC0009655157)\n",
    "Die Feinunze Gold wird als Repräsentant eines limitierten Rohstoffs genutzt, der als sichere Wertspeicher genutzt wird (save heaven)."
   ]
  },
  {
   "cell_type": "code",
   "execution_count": null,
   "metadata": {},
   "outputs": [],
   "source": [
    "gld_cls"
   ]
  },
  {
   "cell_type": "code",
   "execution_count": null,
   "metadata": {},
   "outputs": [],
   "source": [
    "ax = gld_cls.plot(color=\"black\", figsize=size, title=\"Goldpreis für ein Feinunze in USD vom 3.1.2017 bis 10.7.2020\")\n",
    "ax.set(xlabel='Datum', ylabel='USD')\n",
    "plt.show()"
   ]
  },
  {
   "cell_type": "markdown",
   "metadata": {},
   "source": [
    "### Täglicher Schlusskurs des 10-Year T-Note Future-Price (Sep-2020) in USD (Ticker ^TNX)\n",
    "Der 10-Year T-Note Future wird einer Zinsanlage benutzt. Der Futurepreis dient hier als Zeitreihe des Preises auf eine Zinsanlage. "
   ]
  },
  {
   "cell_type": "code",
   "execution_count": null,
   "metadata": {},
   "outputs": [],
   "source": [
    "trs_cls"
   ]
  },
  {
   "cell_type": "code",
   "execution_count": null,
   "metadata": {},
   "outputs": [],
   "source": [
    "ax = trs_cls.plot(color=\"black\", figsize=size, title=\"10-Year T-Note Future-Price (Sep-2020) in USD vom 3.1.2017 bis 10.7.2020\")\n",
    "ax.set(xlabel='Datum', ylabel='USD')\n",
    "plt.show()"
   ]
  },
  {
   "cell_type": "markdown",
   "metadata": {},
   "source": [
    "# ab hier neue version"
   ]
  },
  {
   "cell_type": "code",
   "execution_count": null,
   "metadata": {},
   "outputs": [],
   "source": [
    "def doplot(name :str,  axes : None, ylabl :str, titl :str) : \n",
    "  all_cls[name].plot(color=['black'], title=titl, ax=axes)\n",
    "  axes.set(xlabel=\"Datum\", ylabel=ylabl ) #, ylim=(-0.2, +0.2))"
   ]
  },
  {
   "cell_type": "code",
   "execution_count": null,
   "metadata": {},
   "outputs": [],
   "source": [
    "fig, axes = plt.subplots(3, 2, figsize=(12, 12) , sharex=True)\n",
    "\n",
    "doplot (BTC, axes[0, 0], \"USD\",           \"Bitcoin Kurs in USD\")\n",
    "doplot (S_P, axes[0, 1], \"Index-Punkte\",  \"S&P-Index\")\n",
    "doplot (EUR, axes[1, 0], \"USD\",           \"Euro Kurs\")\n",
    "doplot (OIL, axes[1, 1], \"USD\",           \"Brent Crude Ölpreis pro Barrel\")\n",
    "doplot (GLD, axes[2, 0], \"USD\",           \"Goldpreis für ein Feinunze\")\n",
    "doplot (TRS, axes[2, 1], \"USD\",           \"10-Year T-Note Future-Price (Sep-2020)\")\n",
    "\n",
    "plt.show()"
   ]
  },
  {
   "cell_type": "code",
   "execution_count": null,
   "metadata": {},
   "outputs": [],
   "source": []
  }
 ],
 "metadata": {
  "kernelspec": {
   "display_name": "Python 3",
   "language": "python",
   "name": "python3"
  },
  "language_info": {
   "codemirror_mode": {
    "name": "ipython",
    "version": 3
   },
   "file_extension": ".py",
   "mimetype": "text/x-python",
   "name": "python",
   "nbconvert_exporter": "python",
   "pygments_lexer": "ipython3",
   "version": "3.7.6"
  }
 },
 "nbformat": 4,
 "nbformat_minor": 4
}
