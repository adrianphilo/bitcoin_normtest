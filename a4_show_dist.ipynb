{
 "cells": [
  {
   "cell_type": "markdown",
   "metadata": {},
   "source": [
    "Zeigt die Histogramme von allen Zeitreihen\n",
    "Das Auswertunginterval wird mit \"start\" und \"end\" eingestellt"
   ]
  },
  {
   "cell_type": "code",
   "execution_count": null,
   "metadata": {},
   "outputs": [],
   "source": [
    "%run a0_init.ipynb"
   ]
  },
  {
   "cell_type": "code",
   "execution_count": null,
   "metadata": {},
   "outputs": [],
   "source": [
    "# setzen von start und ende des Auswertungsintervalls\n",
    "size = (9, 6)\n",
    "\n",
    "start = iv1_start\n",
    "end   = iv1_end\n",
    "print(\"period start : \", start)\n",
    "print(\"period end   : \", end)"
   ]
  },
  {
   "cell_type": "code",
   "execution_count": null,
   "metadata": {},
   "outputs": [],
   "source": [
    "all_ret[start : end]"
   ]
  },
  {
   "cell_type": "markdown",
   "metadata": {},
   "source": [
    "### Show all Distribution-Plots (Histograms)"
   ]
  },
  {
   "cell_type": "code",
   "execution_count": null,
   "metadata": {},
   "outputs": [],
   "source": [
    "def plotDist (serie :pd.Series, NAM :str):\n",
    "  f, ax = plt.subplots(1, 1, figsize=size)\n",
    "# ax.set_title(\"Histogram \" + NAM)\n",
    "  ax.set(title = \"Histogram \" + NAM, xlim=(-0.15,+0.15), ylim=(0,100), xlabel=NAM+\" daily return\", ylabel=\"density\")\n",
    "  pp = sns.distplot(serie[start : end], bins=30, fit=stats.norm, color='grey', ax=ax)"
   ]
  },
  {
   "cell_type": "code",
   "execution_count": null,
   "metadata": {},
   "outputs": [],
   "source": [
    "plotDist(btc_ret, BTC)"
   ]
  },
  {
   "cell_type": "code",
   "execution_count": null,
   "metadata": {},
   "outputs": [],
   "source": [
    "plotDist(eur_ret, EUR)"
   ]
  },
  {
   "cell_type": "code",
   "execution_count": null,
   "metadata": {},
   "outputs": [],
   "source": [
    "plotDist(s_p_ret, S_P)"
   ]
  },
  {
   "cell_type": "code",
   "execution_count": null,
   "metadata": {},
   "outputs": [],
   "source": [
    "plotDist(ndq_ret, NDQ)"
   ]
  },
  {
   "cell_type": "code",
   "execution_count": null,
   "metadata": {},
   "outputs": [],
   "source": [
    "plotDist(gld_ret, GLD)"
   ]
  },
  {
   "cell_type": "code",
   "execution_count": null,
   "metadata": {},
   "outputs": [],
   "source": [
    "plotDist(oil_ret, OIL)"
   ]
  },
  {
   "cell_type": "code",
   "execution_count": null,
   "metadata": {},
   "outputs": [],
   "source": [
    "plotDist(trs_ret, TRS)"
   ]
  },
  {
   "cell_type": "markdown",
   "metadata": {},
   "source": [
    "# new try"
   ]
  },
  {
   "cell_type": "code",
   "execution_count": null,
   "metadata": {},
   "outputs": [],
   "source": [
    "def doplot1(serie :pd.Series, NAM :str,  axes : None) :\n",
    "  sns.distplot(serie[iv1_start : iv1_end][NAM],  bins=30, fit=stats.norm, color='grey', ax=axes)\n",
    "  axes.set(title=\"Histogram \" + NAM + \" - daily / Itv.1\", xlim=(-0.15,+0.15), ylim=(0,100) , xlabel=NAM+\" daily return\", ylabel=\"density\")\n",
    "\n",
    "def doplot2(serie :pd.Series, NAM :str,  axes : None) : \n",
    "  sns.distplot(serie[iv2_start : iv2_end][NAM],  bins=30, fit=stats.norm, color='grey', ax=axes)\n",
    "  axes.set(title=\"Histogram \" + NAM + \" - daily / Itv.2\", xlim=(-0.15,+0.15), ylim=(0,100) ,  xlabel=NAM+\" daily return\", ylabel=\"density\")"
   ]
  },
  {
   "cell_type": "code",
   "execution_count": null,
   "metadata": {},
   "outputs": [],
   "source": [
    "fig, axes = plt.subplots(1, 1, figsize=(8, 6) )\n",
    "sns.distplot(btc_ret[iv1_start : iv1_end][BTC],  bins=30, fit=stats.norm, color='grey', ax=axes)\n",
    "axes.set(title=\"Histogram bitcoin - daily / Itv.1\", xlabel=BTC+\" daily return\", ylabel=\"density\")\n",
    "plt.show()"
   ]
  },
  {
   "cell_type": "code",
   "execution_count": null,
   "metadata": {},
   "outputs": [],
   "source": [
    "fig, axes = plt.subplots(1, 1, figsize=(8, 6) )\n",
    "sns.distplot(s_p_ret[iv1_start : iv1_end][S_P],  bins=30, fit=stats.norm, color='grey', ax=axes)\n",
    "axes.set(title=\"Histogram S&P - daily / Itv.1\", xlabel=S_P+\" daily return\", ylabel=\"density\")\n",
    "plt.show()"
   ]
  },
  {
   "cell_type": "code",
   "execution_count": null,
   "metadata": {},
   "outputs": [],
   "source": [
    "fig, axes = plt.subplots(3, 2, figsize=(12, 12) , sharex=True, sharey=True)\n",
    "\n",
    "doplot1 (btc_ret, BTC, axes[0, 0])\n",
    "doplot1 (s_p_ret, S_P, axes[0, 1])\n",
    "doplot1 (eur_ret, EUR, axes[1, 0])\n",
    "doplot1 (oil_ret, OIL, axes[1, 1])\n",
    "doplot1 (gld_ret, GLD, axes[2, 0])\n",
    "doplot1 (trs_ret, TRS, axes[2, 1])\n",
    "\n",
    "plt.show()"
   ]
  },
  {
   "cell_type": "code",
   "execution_count": null,
   "metadata": {},
   "outputs": [],
   "source": [
    "fig, axes = plt.subplots(3, 2, figsize=(12, 12) , sharex=True, sharey=True)\n",
    "\n",
    "doplot2 (btc_ret, BTC, axes[0, 0])\n",
    "doplot2 (s_p_ret, S_P, axes[0, 1])\n",
    "doplot2 (eur_ret, EUR, axes[1, 0])\n",
    "doplot2 (oil_ret, OIL, axes[1, 1])\n",
    "doplot2 (gld_ret, GLD, axes[2, 0])\n",
    "doplot2 (trs_ret, TRS, axes[2, 1])\n",
    "\n",
    "plt.show()"
   ]
  },
  {
   "cell_type": "code",
   "execution_count": null,
   "metadata": {},
   "outputs": [],
   "source": []
  }
 ],
 "metadata": {
  "kernelspec": {
   "display_name": "Python 3",
   "language": "python",
   "name": "python3"
  },
  "language_info": {
   "codemirror_mode": {
    "name": "ipython",
    "version": 3
   },
   "file_extension": ".py",
   "mimetype": "text/x-python",
   "name": "python",
   "nbconvert_exporter": "python",
   "pygments_lexer": "ipython3",
   "version": "3.7.6"
  }
 },
 "nbformat": 4,
 "nbformat_minor": 4
}
