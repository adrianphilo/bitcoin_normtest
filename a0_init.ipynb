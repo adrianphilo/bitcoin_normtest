{
 "cells": [
  {
   "cell_type": "markdown",
   "metadata": {},
   "source": [
    "INIT enthält die initialisierung die von jedem auswerter geladen wird:      \n",
    " + setzen der Intervalle   \n",
    " + laden der files btc, eur, s&p, nasdaq, gold, oel, treasury_10Y \n",
    " + rechnen der returns\n",
    " + erstellen von concatenates "
   ]
  },
  {
   "cell_type": "code",
   "execution_count": null,
   "metadata": {
    "scrolled": false
   },
   "outputs": [],
   "source": [
    "%load_ext autoreload\n",
    "%autoreload 2\n",
    "%matplotlib inline\n",
    "\n",
    "import edhec_risk_kit_129 as erk\n",
    "import numpy as np\n",
    "import pandas as pd\n",
    "import scipy.stats\n",
    "import seaborn as sns\n",
    "import statsmodels.api as sm\n",
    "from matplotlib import pyplot as plt \n",
    "from scipy import stats"
   ]
  },
  {
   "cell_type": "markdown",
   "metadata": {},
   "source": [
    "Goldpreis WKN: 965515 ISIN: XC0009655157\n",
    "https://www.ariva.de/goldpreis-gold-kurs/historische_kurse\n",
    "\n",
    "\n",
    "Brent Crude Ölpreis Historische Kurse   ISIN: XC0009677409\n",
    "https://www.ariva.de/brent_crude_roh%C3%B6l_ice_rolling-kurs/historische_kurse\n",
    "    \n",
    "https://de.finance.yahoo.com/quote/EURUSD%3DX/history  \n",
    "BTC-USD  \n",
    "EUR-USD\n",
    "^GSPC  \n",
    "^IXIC  \n",
    "10-Year T-Note Futures,Sep-2020 (ZN=F)\n",
    "( yield not used : Treasury Yield 10 Years (^TNX) )\n"
   ]
  },
  {
   "cell_type": "code",
   "execution_count": null,
   "metadata": {
    "scrolled": false
   },
   "outputs": [],
   "source": [
    "dat_start  = \"2017-01-03\"   #\"2014-09-11\"   #2018-02\n",
    "dat_end    = \"2020-07-10\"   #2020-02\n",
    "\n",
    "iv1_start = \"2018-02-01\"\n",
    "iv1_end   = \"2020-02-01\"\n",
    "\n",
    "iv2_start = \"2018-02-01\"\n",
    "iv2_end   = \"2020-07-10\"\n",
    "\n",
    "btc_file = \"BTC-USD_day\"\n",
    "eur_file = \"EUR-USD_day\"\n",
    "s_p_file = \"^GSPC_S&P_day\"\n",
    "ndq_file = \"^IXIC_nasdaq_day\"\n",
    "gld_file = \"wkn_965515_gold\"  #\"GC=F_gold_day\"\n",
    "oil_file = \"wkn_COM062_oel\"   #CL-F_crudeoil\n",
    "trs_file = \"ZN=F_10Y_day\"       #\"^TNX_10Y_day\"\n",
    "\n",
    "BTC = \"bitcoin\"\n",
    "EUR = \"eur\"\n",
    "S_P = \"S_P\"\n",
    "NDQ = \"Nasdaq\"\n",
    "GLD = \"Gold\"\n",
    "OIL = \"Oil\"\n",
    "TRS = \"Treasury\"\n",
    "\n",
    "roll_size      = 250 #250 ist gaengig / 257=1y  #66=3m\n",
    "roll_size_week = 52"
   ]
  },
  {
   "cell_type": "markdown",
   "metadata": {},
   "source": [
    "### Initialisierung\n",
    "Laden daily bitcoin, S&P .... \n",
    "Ermitteln der Returns. \n",
    "Die folgenden rolling Auswertungen beziehen sich auf den Beobachtungszeitraum."
   ]
  },
  {
   "cell_type": "code",
   "execution_count": null,
   "metadata": {
    "scrolled": true
   },
   "outputs": [],
   "source": [
    "btc0 = pd.read_csv(\"_data/\" + btc_file + \".csv\", header=0, index_col=0)\n",
    "eur0 = pd.read_csv(\"_data/\" + eur_file + \".csv\", header=0, index_col=0)\n",
    "s_p0 = pd.read_csv(\"_data/\" + s_p_file + \".csv\", header=0, index_col=0)\n",
    "ndq0 = pd.read_csv(\"_data/\" + ndq_file + \".csv\", header=0, index_col=0)\n",
    "gld0 = pd.read_csv(\"_data/\" + gld_file + \".csv\", header=0, index_col=0)\n",
    "oil0 = pd.read_csv(\"_data/\" + oil_file + \".csv\", header=0, index_col=0)\n",
    "trs0 = pd.read_csv(\"_data/\" + trs_file + \".csv\", header=0, index_col=0).dropna()\n",
    "\n",
    "btc_cls = btc0[dat_start : dat_end]['Close'].to_frame()\n",
    "btc_cls.rename(columns={'Close':BTC}, inplace=True)\n",
    "\n",
    "eur_cls = eur0[dat_start : dat_end]['Close'].to_frame()\n",
    "eur_cls.rename(columns={'Close':EUR}, inplace=True)\n",
    "\n",
    "s_p_cls = s_p0[dat_start : dat_end]['Close'].to_frame()\n",
    "s_p_cls.rename(columns={'Close':S_P}, inplace=True)\n",
    "\n",
    "ndq_cls = ndq0[dat_start : dat_end]['Close'].to_frame()\n",
    "ndq_cls.rename(columns={'Close':NDQ}, inplace=True)\n",
    "\n",
    "gld_cls = gld0[dat_start : dat_end]['Schlusskurs'].to_frame()\n",
    "gld_cls.rename(columns={'Schlusskurs':GLD}, inplace=True)\n",
    "\n",
    "oil_cls = oil0[dat_start : dat_end]['Schlusskurs'].to_frame()\n",
    "oil_cls.rename(columns={'Schlusskurs':OIL}, inplace=True)\n",
    "\n",
    "trs_cls = trs0[dat_start : dat_end]['Close'].to_frame()\n",
    "trs_cls.rename(columns={'Close':TRS}, inplace=True)\n",
    "\n",
    "# btc_cls.index = pd.to_datetime(btc_cls.index).to_period('W-MON')\n",
    "# oth_cls.index = pd.to_datetime(oth_cls.index).to_period('W-MON')\n",
    "all_cls = pd.concat([btc_cls, eur_cls, s_p_cls, ndq_cls, gld_cls, oil_cls, trs_cls], axis=1, sort=True).dropna()\n",
    "\n",
    "#btc_r05 = btc_ret * 0.5\n",
    "#btc_r05.rename(columns={btc_nam : btc_nam+'*0.5'}, inplace=True)\n",
    "btc_ret = btc_cls.pct_change().dropna()\n",
    "eur_ret = eur_cls.pct_change().dropna()\n",
    "s_p_ret = s_p_cls.pct_change().dropna()\n",
    "ndq_ret = ndq_cls.pct_change().dropna()\n",
    "gld_ret = gld_cls.pct_change().dropna()\n",
    "oil_ret = oil_cls.pct_change().dropna()\n",
    "trs_ret = trs_cls.pct_change().dropna()\n",
    "\n",
    "all_ret = pd.concat([btc_ret, eur_ret, s_p_ret, ndq_ret, gld_ret, oil_ret, trs_ret], axis=1, sort=True).dropna()\n",
    "#all_ret = pd.concat([btc_ret, btc_r05, s_p_ret, gld_ret, oil_ret], axis=1, sort=True).dropna()\n",
    "\n",
    "iv1_cls  = all_cls[iv1_start : iv1_end]\n",
    "iv1_ret  = all_ret[iv1_start : iv1_end]\n",
    "\n",
    "iv2_cls  = all_cls[iv2_start : iv2_end]\n",
    "iv2_ret  = all_ret[iv2_start : iv2_end]"
   ]
  },
  {
   "cell_type": "code",
   "execution_count": null,
   "metadata": {},
   "outputs": [],
   "source": [
    "print (\"btc_cls : \" , btc_cls.shape)\n",
    "print (\"eur_cls : \" , eur_cls.shape)\n",
    "print (\"s_p_cls : \" , s_p_cls.shape)\n",
    "print (\"ndq_cls : \" , ndq_cls.shape)\n",
    "print (\"gld_cls : \" , gld_cls.shape)\n",
    "print (\"oil_cls : \" , oil_cls.shape)\n",
    "print (\"trs_cls : \" , oil_cls.shape)\n",
    "print (\"all_cls : \" , all_cls.shape)"
   ]
  },
  {
   "cell_type": "code",
   "execution_count": null,
   "metadata": {},
   "outputs": [],
   "source": [
    "print (\"btc_ret : \" , btc_ret.shape)\n",
    "print (\"eur_ret : \" , eur_ret.shape)\n",
    "print (\"s_p_ret : \" , s_p_ret.shape)\n",
    "print (\"ndq_ret : \" , ndq_ret.shape)\n",
    "print (\"gld_ret : \" , gld_ret.shape)\n",
    "print (\"oil_ret : \" , oil_ret.shape)\n",
    "print (\"trs_ret : \" , oil_ret.shape)\n",
    "print (\"all_ret : \" , all_ret.shape)"
   ]
  },
  {
   "cell_type": "code",
   "execution_count": null,
   "metadata": {},
   "outputs": [],
   "source": [
    "#all_cls[btc_nam].plot(figsize=(9, 6)) \n",
    "#all_cls[oil_nam].plot(figsize=(9, 6)) \n",
    "#iv2_cls[gld_nam].plot(figsize=(9, 6)) \n",
    "\n",
    "#iv1_cls[[btc_nam, s_p_nam]].plot(figsize=(9, 6)) \n",
    "#iv2_ret[[btc_nam, s_p_nam]].plot(figsize=(9, 6)) "
   ]
  },
  {
   "cell_type": "code",
   "execution_count": null,
   "metadata": {},
   "outputs": [],
   "source": [
    "#all_cls[s_p_nam].plot(figsize=(9, 6)) "
   ]
  },
  {
   "cell_type": "code",
   "execution_count": null,
   "metadata": {},
   "outputs": [],
   "source": [
    "#pd.set_option('display.max_rows', None)\n",
    "#pd.concat([btc_cls, eur_cls, s_p_cls, oil_cls, trs_cls, all_cls], axis=1, sort=True)\n",
    "#pd.concat([btc_ret, eur_ret, s_p_ret, oil_ret, trs_ret, all_ret], axis=1, sort=True)"
   ]
  },
  {
   "cell_type": "code",
   "execution_count": null,
   "metadata": {},
   "outputs": [],
   "source": [
    "all_cls_fri1 = all_cls # [iv1_start : ]\n",
    "all_cls_fri1.index = pd.to_datetime(all_cls_fri1.index)\n",
    "all_cls_fri = all_cls_fri1[(all_cls_fri1.index.weekday==4) | (all_cls_fri1.index == '2018-03-08') \n",
    "                                                           | (all_cls_fri1.index == '2018-03-29') \n",
    "                                                           | (all_cls_fri1.index == '2018-11-21')\n",
    "                                                           | (all_cls_fri1.index == '2019-04-18')\n",
    "                                                           | (all_cls_fri1.index == '2019-11-27')\n",
    "                                                           | (all_cls_fri1.index == '2020-04-09')\n",
    "                                                           | (all_cls_fri1.index == '2020-04-30')\n",
    "                                                           | (all_cls_fri1.index == '2020-07-02')]  #3\n",
    "all_ret_fri = all_cls_fri.pct_change().dropna()\n",
    "#print (\"all_cls_fri : \" , all_cls_fri.shape)\n",
    "print (\"all_ret_fri : \" , all_ret_fri.shape)"
   ]
  },
  {
   "cell_type": "code",
   "execution_count": null,
   "metadata": {},
   "outputs": [],
   "source": [
    "#pd.set_option('display.max_rows', None)\n",
    "#all_ret\n",
    "#all_ret.describe()"
   ]
  },
  {
   "cell_type": "code",
   "execution_count": null,
   "metadata": {},
   "outputs": [],
   "source": [
    "#all_ret_fri.describe()"
   ]
  },
  {
   "cell_type": "code",
   "execution_count": null,
   "metadata": {},
   "outputs": [],
   "source": []
  }
 ],
 "metadata": {
  "kernelspec": {
   "display_name": "Python 3",
   "language": "python",
   "name": "python3"
  },
  "language_info": {
   "codemirror_mode": {
    "name": "ipython",
    "version": 3
   },
   "file_extension": ".py",
   "mimetype": "text/x-python",
   "name": "python",
   "nbconvert_exporter": "python",
   "pygments_lexer": "ipython3",
   "version": "3.7.6"
  }
 },
 "nbformat": 4,
 "nbformat_minor": 4
}
