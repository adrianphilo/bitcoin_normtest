{
 "cells": [
  {
   "cell_type": "markdown",
   "metadata": {},
   "source": [
    "correlation von allen zeitreihen und rolling Correlation.   "
   ]
  },
  {
   "cell_type": "code",
   "execution_count": null,
   "metadata": {
    "scrolled": true
   },
   "outputs": [],
   "source": [
    "%run a0_init.ipynb"
   ]
  },
  {
   "cell_type": "code",
   "execution_count": null,
   "metadata": {},
   "outputs": [],
   "source": [
    "#correlation von ITV1\n",
    "all_ret_fri[iv1_start : iv1_end].corr()"
   ]
  },
  {
   "cell_type": "code",
   "execution_count": null,
   "metadata": {},
   "outputs": [],
   "source": [
    "#correlation von ITV2\n",
    "all_ret_fri[iv2_start : iv2_end].corr()"
   ]
  },
  {
   "cell_type": "markdown",
   "metadata": {},
   "source": [
    "### Correlation Rolling 1Y"
   ]
  },
  {
   "cell_type": "code",
   "execution_count": null,
   "metadata": {
    "scrolled": true
   },
   "outputs": [],
   "source": [
    "#pd.set_option('display.max_rows', None)\n",
    "size = (9, 6)\n",
    "roll_corr = all_ret_fri.rolling(roll_size_week).corr().dropna()\n",
    "roll_corr"
   ]
  },
  {
   "cell_type": "code",
   "execution_count": null,
   "metadata": {},
   "outputs": [],
   "source": [
    "roll_corr[EUR][roll_corr.index.isin([BTC], level=1)].plot(color=\"grey\", figsize=size)"
   ]
  },
  {
   "cell_type": "code",
   "execution_count": null,
   "metadata": {
    "scrolled": true
   },
   "outputs": [],
   "source": [
    "roll_corr[S_P][roll_corr.index.isin([BTC], level=1)].plot(color=\"grey\", figsize=size)"
   ]
  },
  {
   "cell_type": "code",
   "execution_count": null,
   "metadata": {
    "scrolled": true
   },
   "outputs": [],
   "source": [
    "roll_corr[NDQ][roll_corr.index.isin([BTC], level=1)].plot(color=\"grey\", figsize=size)"
   ]
  },
  {
   "cell_type": "code",
   "execution_count": null,
   "metadata": {
    "scrolled": true
   },
   "outputs": [],
   "source": [
    "roll_corr[GLD][roll_corr.index.isin([BTC], level=1)].plot(color=\"grey\", figsize=size)"
   ]
  },
  {
   "cell_type": "code",
   "execution_count": null,
   "metadata": {
    "scrolled": true
   },
   "outputs": [],
   "source": [
    "roll_corr[OIL][roll_corr.index.isin([BTC], level=1)].plot(color=\"grey\", figsize=size)"
   ]
  },
  {
   "cell_type": "code",
   "execution_count": null,
   "metadata": {
    "scrolled": true
   },
   "outputs": [],
   "source": [
    "roll_corr[TRS][roll_corr.index.isin([BTC], level=1)].plot(color=\"grey\", figsize=size)"
   ]
  },
  {
   "cell_type": "markdown",
   "metadata": {},
   "source": [
    "# new try"
   ]
  },
  {
   "cell_type": "code",
   "execution_count": null,
   "metadata": {},
   "outputs": [],
   "source": [
    "def doplot1(serie :pd.Series, NAM :str,  axes : None) :\n",
    "  serie[NAM].plot(color=['black'], ax=axes,  rot=30, title=NAM+\" / \"+BTC+\" corr. of weekly chng, rolling 1Y\") \n",
    "  axes.set(xlabel=\"Datum\", ylabel=\"Quote\" , ylim = (-0.5 , +1.1)) "
   ]
  },
  {
   "cell_type": "code",
   "execution_count": null,
   "metadata": {},
   "outputs": [],
   "source": [
    "fig, axes = plt.subplots(3, 2, figsize=(13, 13) , sharex=True ) #, sharey=True)\n",
    "roll_ = roll_corr[roll_corr.index.isin([BTC] , level=1)].droplevel(1)\n",
    "\n",
    "\n",
    "doplot1 (roll_, BTC, axes[0, 0])\n",
    "doplot1 (roll_, S_P, axes[0, 1])\n",
    "doplot1 (roll_, EUR, axes[1, 0])\n",
    "doplot1 (roll_, OIL, axes[1, 1])\n",
    "doplot1 (roll_, GLD, axes[2, 0])\n",
    "doplot1 (roll_, TRS, axes[2, 1])\n",
    "\n",
    "plt.show()"
   ]
  },
  {
   "cell_type": "code",
   "execution_count": null,
   "metadata": {},
   "outputs": [],
   "source": []
  }
 ],
 "metadata": {
  "kernelspec": {
   "display_name": "Python 3",
   "language": "python",
   "name": "python3"
  },
  "language_info": {
   "codemirror_mode": {
    "name": "ipython",
    "version": 3
   },
   "file_extension": ".py",
   "mimetype": "text/x-python",
   "name": "python",
   "nbconvert_exporter": "python",
   "pygments_lexer": "ipython3",
   "version": "3.7.6"
  }
 },
 "nbformat": 4,
 "nbformat_minor": 4
}
